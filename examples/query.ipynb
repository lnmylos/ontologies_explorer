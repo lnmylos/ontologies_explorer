{
 "cells": [
  {
   "cell_type": "code",
   "execution_count": null,
   "id": "e3e06337-0511-438b-b258-e32cc995aa78",
   "metadata": {},
   "outputs": [],
   "source": [
    " # Examples for the connection and queries of the SMT (https://smt.esante.gouv.fr/)"
   ]
  },
  {
   "cell_type": "code",
   "execution_count": null,
   "id": "d4cace26-ce28-4fa9-babb-4f4693187474",
   "metadata": {
    "tags": []
   },
   "outputs": [],
   "source": [
    "import json\n",
    "from IPython.display import JSON\n",
    "import requests\n",
    "import urllib"
   ]
  },
  {
   "cell_type": "code",
   "execution_count": null,
   "id": "96a9bbc8-2668-4f7b-85b0-9b7e8e337a65",
   "metadata": {
    "tags": []
   },
   "outputs": [],
   "source": [
    "with open(\"config.json\") as file:\n",
    "    configs = json.load(file)\n",
    "mail = configs[\"mail\"]\n",
    "password = configs[\"password\"]"
   ]
  },
  {
   "cell_type": "code",
   "execution_count": null,
   "id": "dabf0ea6-5d54-4174-a529-752091ea06ca",
   "metadata": {
    "tags": []
   },
   "outputs": [],
   "source": [
    "# Example query from exercises\n",
    "\n",
    "r = requests.get(\n",
    "    \"https://smt.esante.gouv.fr/fhir/ValueSet?identifier=urn:oid:1F.2F.250.1.213.3.3.66\",\n",
    ")\n",
    "\n",
    "data = json.loads(r.text)"
   ]
  },
  {
   "cell_type": "code",
   "execution_count": null,
   "id": "7d52b6ed-79fa-45a9-8e31-258d05994919",
   "metadata": {
    "tags": []
   },
   "outputs": [],
   "source": [
    "JSON(data)"
   ]
  },
  {
   "cell_type": "code",
   "execution_count": null,
   "id": "36cf9a97-ace9-43d5-95b7-ecf9957c2566",
   "metadata": {
    "tags": []
   },
   "outputs": [],
   "source": [
    "## Obtaining a valid token (required for licenced terminologies)\n",
    "\n",
    "query_token = \"https://smt.esante.gouv.fr/ans/sso/auth/realms/ANS/protocol/openid-connect/token\"\n",
    "\n",
    "headers = {\"Content-Type\": \"application/x-www-form-urlencoded\"}\n",
    "\n",
    "data={\n",
    "        \"grant_type\": \"password\",\n",
    "        \"client_id\": \"user-api\",\n",
    "        \"username\": f\"{mail}\",\n",
    "        \"password\": f\"{password}\",\n",
    "        \"refresh_token\": \"ey...\",\n",
    "    }\n",
    "\n",
    "r = requests.post(\n",
    "    query_token,\n",
    "    headers=headers,\n",
    "    data=data,\n",
    ")\n",
    "\n",
    "print(r)"
   ]
  },
  {
   "cell_type": "code",
   "execution_count": null,
   "id": "9b000980-2a6c-4428-914b-4f8ebdd3415f",
   "metadata": {
    "tags": []
   },
   "outputs": [],
   "source": [
    "# If <Response [200]>\n",
    "\n",
    "result = json.loads(r.text)\n",
    "token_result = result[\"access_token\"]"
   ]
  },
  {
   "cell_type": "code",
   "execution_count": null,
   "id": "0ce833ae-6440-456f-86a7-9ea4372650bc",
   "metadata": {
    "tags": []
   },
   "outputs": [],
   "source": [
    "# From the FHIR terminology server, obtain the lits of Code Systems\n",
    "\n",
    "query2 = \"https://smt.esante.gouv.fr/fhir/CodeSystem\"\n",
    "\n",
    "token = {\"Authorization\": f\"{token_result}\", \"Content-Type\": \"application/json+fhir\"}\n",
    "\n",
    "r = requests.get(\n",
    "    query2,\n",
    "    headers=token,\n",
    ")\n",
    "\n",
    "print(r)"
   ]
  },
  {
   "cell_type": "code",
   "execution_count": null,
   "id": "738c8d9c-9485-4eb9-a477-c4fe6af6b83b",
   "metadata": {
    "tags": []
   },
   "outputs": [],
   "source": [
    "# If <Response [200]>\n",
    "\n",
    "result = json.loads(r.text)\n",
    "JSON(result)"
   ]
  },
  {
   "cell_type": "code",
   "execution_count": null,
   "id": "56e708e0-f689-40bb-a051-5dc99f13ca67",
   "metadata": {
    "tags": []
   },
   "outputs": [],
   "source": [
    "# Search in ValueSet all codes related to pharynx\n",
    "\n",
    "query3 = \"https://smt.esante.gouv.fr/fhir/ValueSet/terminologie-cim-10/$expand?filter=pharynx\"\n",
    "\n",
    "token = {\"Authorization\": f\"{token_result}\", \"Content-Type\": \"application/json+fhir\"}\n",
    "\n",
    "r = requests.get(\n",
    "    query3,\n",
    "    headers=token,\n",
    ")\n",
    "\n",
    "print(r)"
   ]
  },
  {
   "cell_type": "code",
   "execution_count": null,
   "id": "83c8d8da-5f90-4321-8508-6119d3f9af9c",
   "metadata": {
    "tags": []
   },
   "outputs": [],
   "source": [
    "# If <Response [200]>\n",
    "\n",
    "result = json.loads(r.text)\n",
    "JSON(result)"
   ]
  },
  {
   "cell_type": "code",
   "execution_count": null,
   "id": "c645d45e-6443-4282-a425-41631ce3b811",
   "metadata": {
    "tags": []
   },
   "outputs": [],
   "source": [
    "# Search in CodeSystem CIM10 specific codes\n",
    "\n",
    "query4 = \"https://smt.esante.gouv.fr/fhir/CodeSystem/$lookup?code=F02.00&system=https://smt.esante.gouv.fr/terminologie-cim-10\"\n",
    "\n",
    "token = {\"Authorization\": f\"{token_result}\", \"Content-Type\": \"application/fhir+json\"}\n",
    "\n",
    "r = requests.get(\n",
    "    query4,\n",
    "    headers=token,\n",
    ")\n",
    "\n",
    "print(r)"
   ]
  },
  {
   "cell_type": "code",
   "execution_count": null,
   "id": "1f922fbc-7073-4165-a519-eacb2880ae59",
   "metadata": {
    "tags": []
   },
   "outputs": [],
   "source": [
    "# If <Response [200]>\n",
    "\n",
    "result = json.loads(r.text)\n",
    "JSON(result)"
   ]
  },
  {
   "cell_type": "code",
   "execution_count": null,
   "id": "a0e0ce11-d056-4434-8989-16916b418b52",
   "metadata": {},
   "outputs": [],
   "source": [
    "# Search term in CIM10\n",
    "\n",
    "query5 = \"https://smt.esante.gouv.fr/fhir/ValueSet/$expand?url=https://smt.esante.gouv.fr/terminologie-cim-10?vs&filter=Cholera\"\n",
    "\n",
    "token = {\"Authorization\": f\"{token_result}\", \"Content-Type\": \"application/fhir+json\"}\n",
    "\n",
    "r = requests.get(\n",
    "    query5,\n",
    "    headers=token,\n",
    ")\n",
    "print(r)"
   ]
  },
  {
   "cell_type": "code",
   "execution_count": null,
   "id": "df905ee6-4c95-4fa1-825e-fea07f9a354a",
   "metadata": {
    "tags": []
   },
   "outputs": [],
   "source": [
    "# If <Response [200]>\n",
    "\n",
    "result = json.loads(r.text)\n",
    "JSON(result)"
   ]
  }
 ],
 "metadata": {
  "kernelspec": {
   "display_name": "Python 3 (ipykernel)",
   "language": "python",
   "name": "python3"
  },
  "language_info": {
   "codemirror_mode": {
    "name": "ipython",
    "version": 3
   },
   "file_extension": ".py",
   "mimetype": "text/x-python",
   "name": "python",
   "nbconvert_exporter": "python",
   "pygments_lexer": "ipython3",
   "version": "3.10.13"
  }
 },
 "nbformat": 4,
 "nbformat_minor": 5
}
